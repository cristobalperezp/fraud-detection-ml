{
 "cells": [
  {
   "cell_type": "markdown",
   "id": "eff719ea",
   "metadata": {},
   "source": [
    "# 🤖 Entrenamiento de Modelos de Machine Learning\n",
    "## Fraud Detector para Transacciones Bancarias\n",
    "\n",
    "Este notebook implementa el entrenamiento de modelos de ML usando pipelines con ColumnTransformer y optimización de hiperparámetros con Optuna.\n",
    "\n",
    "**Objetivos:**\n",
    "- Crear pipelines de preprocessing con ColumnTransformer\n",
    "- Entrenar modelos: Logistic Regression, Random Forest, LightGBM\n",
    "- Optimizar hiperparámetros con Optuna\n",
    "- Evaluar y comparar modelos\n",
    "- Guardar mejores modelos"
   ]
  },
  {
   "cell_type": "markdown",
   "id": "342af627",
   "metadata": {},
   "source": [
    "## 1. Importación de Librerías"
   ]
  },
  {
   "cell_type": "code",
   "execution_count": 1,
   "id": "526f688b",
   "metadata": {},
   "outputs": [
    {
     "name": "stderr",
     "output_type": "stream",
     "text": [
      "/Users/cristobalperez/Library/Python/3.12/lib/python/site-packages/dask/dataframe/__init__.py:42: FutureWarning: \n",
      "Dask dataframe query planning is disabled because dask-expr is not installed.\n",
      "\n",
      "You can install it with `pip install dask[dataframe]` or `conda install dask`.\n",
      "This will raise in a future version.\n",
      "\n",
      "  warnings.warn(msg, FutureWarning)\n",
      "/Library/Frameworks/Python.framework/Versions/3.12/lib/python3.12/site-packages/tqdm/auto.py:21: TqdmWarning: IProgress not found. Please update jupyter and ipywidgets. See https://ipywidgets.readthedocs.io/en/stable/user_install.html\n",
      "  from .autonotebook import tqdm as notebook_tqdm\n"
     ]
    },
    {
     "name": "stdout",
     "output_type": "stream",
     "text": [
      "📚 Librerías importadas exitosamente!\n",
      "🎲 Semilla aleatoria establecida: 42\n"
     ]
    }
   ],
   "source": [
    "# Manipulación de datos\n",
    "import pandas as pd\n",
    "import numpy as np\n",
    "\n",
    "# Sklearn - Modelos y métricas\n",
    "from sklearn.linear_model import LogisticRegression\n",
    "from sklearn.ensemble import RandomForestClassifier\n",
    "from sklearn.preprocessing import StandardScaler, RobustScaler\n",
    "from sklearn.compose import ColumnTransformer\n",
    "from sklearn.pipeline import Pipeline\n",
    "from sklearn.metrics import (\n",
    "    accuracy_score, precision_score, recall_score, f1_score, \n",
    "    roc_auc_score, classification_report, confusion_matrix\n",
    ")\n",
    "from sklearn.model_selection import cross_val_score\n",
    "\n",
    "# LightGBM\n",
    "import lightgbm as lgb\n",
    "from lightgbm import LGBMClassifier\n",
    "\n",
    "# Optimización de hiperparámetros\n",
    "import optuna\n",
    "from optuna.samplers import TPESampler\n",
    "\n",
    "# Visualización\n",
    "import matplotlib.pyplot as plt\n",
    "import seaborn as sns\n",
    "import plotly.express as px\n",
    "import plotly.graph_objects as go\n",
    "from plotly.subplots import make_subplots\n",
    "\n",
    "# Utilidades\n",
    "import os\n",
    "import json\n",
    "import joblib\n",
    "import time\n",
    "from datetime import datetime\n",
    "import warnings\n",
    "warnings.filterwarnings('ignore')\n",
    "\n",
    "# Configuración\n",
    "plt.style.use('seaborn-v0_8')\n",
    "sns.set_palette(\"husl\")\n",
    "plt.rcParams['figure.figsize'] = (12, 8)\n",
    "plt.rcParams['font.size'] = 12\n",
    "\n",
    "# Semilla para reproducibilidad\n",
    "RANDOM_STATE = 42\n",
    "np.random.seed(RANDOM_STATE)\n",
    "\n",
    "print(\"📚 Librerías importadas exitosamente!\")\n",
    "print(f\"🎲 Semilla aleatoria establecida: {RANDOM_STATE}\")"
   ]
  },
  {
   "cell_type": "markdown",
   "id": "423aaf91",
   "metadata": {},
   "source": [
    "## 2. Carga de Datos Procesados"
   ]
  },
  {
   "cell_type": "code",
   "execution_count": 2,
   "id": "c1a5a22d",
   "metadata": {},
   "outputs": [
    {
     "name": "stdout",
     "output_type": "stream",
     "text": [
      "📁 CARGA DE DATOS PROCESADOS\n",
      "===================================\n",
      "✅ Datos cargados exitosamente!\n",
      "\n",
      "📊 Dimensiones de los conjuntos:\n",
      "   Entrenamiento: (339902, 30)\n",
      "   Validación: (56745, 30)\n",
      "   Prueba: (56746, 30)\n",
      "\n",
      "🎯 Distribución de clases:\n",
      "   Entrenamiento: {0: 169951, 1: 169951}\n",
      "   Validación: {0: 56651, 1: 94}\n",
      "   Prueba: {0: 56651, 1: 95}\n"
     ]
    }
   ],
   "source": [
    "# Cargar datos procesados\n",
    "print(\"📁 CARGA DE DATOS PROCESADOS\")\n",
    "print(\"=\" * 35)\n",
    "\n",
    "try:\n",
    "    # Cargar conjuntos de datos\n",
    "    X_train_balanced = pd.read_csv('../data/processed/X_train_balanced.csv')\n",
    "    y_train_balanced = pd.read_csv('../data/processed/y_train_balanced.csv')['Class']\n",
    "    X_val = pd.read_csv('../data/processed/X_val.csv')\n",
    "    y_val = pd.read_csv('../data/processed/y_val.csv')['Class']\n",
    "    X_test = pd.read_csv('../data/processed/X_test.csv')\n",
    "    y_test = pd.read_csv('../data/processed/y_test.csv')['Class']\n",
    "    \n",
    "    print(\"✅ Datos cargados exitosamente!\")\n",
    "    \n",
    "    # Información de los conjuntos\n",
    "    print(f\"\\n📊 Dimensiones de los conjuntos:\")\n",
    "    print(f\"   Entrenamiento: {X_train_balanced.shape}\")\n",
    "    print(f\"   Validación: {X_val.shape}\")\n",
    "    print(f\"   Prueba: {X_test.shape}\")\n",
    "    \n",
    "    # Verificar distribución de clases\n",
    "    print(f\"\\n🎯 Distribución de clases:\")\n",
    "    print(f\"   Entrenamiento: {y_train_balanced.value_counts().to_dict()}\")\n",
    "    print(f\"   Validación: {y_val.value_counts().to_dict()}\")\n",
    "    print(f\"   Prueba: {y_test.value_counts().to_dict()}\")\n",
    "    \n",
    "except FileNotFoundError as e:\n",
    "    print(f\"❌ Error: {e}\")\n",
    "    print(\"📥 Por favor, ejecuta primero el notebook '02_Data_Preprocessing.ipynb'\")\n",
    "    raise"
   ]
  },
  {
   "cell_type": "markdown",
   "id": "bc5218ef",
   "metadata": {},
   "source": [
    "## 3. Configuración de Pipelines con ColumnTransformer"
   ]
  },
  {
   "cell_type": "code",
   "execution_count": 3,
   "id": "d57eb2cf",
   "metadata": {},
   "outputs": [
    {
     "name": "stdout",
     "output_type": "stream",
     "text": [
      "🔧 CONFIGURACIÓN DE PIPELINES\n",
      "===================================\n",
      "📋 Características identificadas:\n",
      "   Variables PCA: 28 (['V1', 'V2', 'V3', 'V4', 'V5']...)\n",
      "   Variables numéricas: 2 (['Time', 'Amount'])\n",
      "   Total características: 30\n"
     ]
    }
   ],
   "source": [
    "# Identificar tipos de características\n",
    "print(\"🔧 CONFIGURACIÓN DE PIPELINES\")\n",
    "print(\"=\" * 35)\n",
    "\n",
    "# Separar características por tipo\n",
    "pca_features = [col for col in X_train_balanced.columns if col.startswith('V')]\n",
    "numerical_features = ['Time', 'Amount']\n",
    "\n",
    "print(f\"📋 Características identificadas:\")\n",
    "print(f\"   Variables PCA: {len(pca_features)} ({pca_features[:5]}...)\")\n",
    "print(f\"   Variables numéricas: {len(numerical_features)} ({numerical_features})\")\n",
    "print(f\"   Total características: {len(X_train_balanced.columns)}\")"
   ]
  },
  {
   "cell_type": "code",
   "execution_count": 4,
   "id": "c41f11d7",
   "metadata": {},
   "outputs": [
    {
     "name": "stdout",
     "output_type": "stream",
     "text": [
      "✅ ColumnTransformer configurado:\n",
      "   • Variables PCA: StandardScaler\n",
      "   • Variables numéricas (Time, Amount): RobustScaler\n",
      "   • Otras variables: Sin transformación\n"
     ]
    }
   ],
   "source": [
    "# Crear ColumnTransformer\n",
    "def create_preprocessor():\n",
    "    \"\"\"\n",
    "    Crea el preprocessor con ColumnTransformer\n",
    "    \"\"\"\n",
    "    preprocessor = ColumnTransformer(\n",
    "        transformers=[\n",
    "            ('pca_scaler', StandardScaler(), pca_features),\n",
    "            ('num_scaler', RobustScaler(), numerical_features)\n",
    "        ],\n",
    "        remainder='passthrough'  # Mantener otras columnas sin cambios\n",
    "    )\n",
    "    return preprocessor\n",
    "\n",
    "# Crear el preprocessor\n",
    "preprocessor = create_preprocessor()\n",
    "print(\"✅ ColumnTransformer configurado:\")\n",
    "print(\"   • Variables PCA: StandardScaler\")\n",
    "print(\"   • Variables numéricas (Time, Amount): RobustScaler\")\n",
    "print(\"   • Otras variables: Sin transformación\")"
   ]
  },
  {
   "cell_type": "markdown",
   "id": "61d3a394",
   "metadata": {},
   "source": [
    "## 4. Configuración de Modelos Base"
   ]
  },
  {
   "cell_type": "code",
   "execution_count": 5,
   "id": "911f2ee6",
   "metadata": {},
   "outputs": [
    {
     "name": "stdout",
     "output_type": "stream",
     "text": [
      "🤖 Modelos base configurados:\n",
      "   • Logistic Regression\n",
      "   • Random Forest\n",
      "   • Lightgbm\n"
     ]
    }
   ],
   "source": [
    "# Configurar modelos base\n",
    "def get_base_models():\n",
    "    \"\"\"\n",
    "    Retorna diccionario con modelos base configurados\n",
    "    \"\"\"\n",
    "    models = {\n",
    "        'logistic_regression': LogisticRegression(\n",
    "            random_state=RANDOM_STATE,\n",
    "            n_jobs=-1,\n",
    "            max_iter=1000\n",
    "        ),\n",
    "        'random_forest': RandomForestClassifier(\n",
    "            random_state=RANDOM_STATE,\n",
    "            n_jobs=-1\n",
    "        ),\n",
    "        'lightgbm': LGBMClassifier(\n",
    "            random_state=RANDOM_STATE,\n",
    "            n_jobs=-1,\n",
    "            verbose=-1,\n",
    "            force_col_wise=True\n",
    "        )\n",
    "    }\n",
    "    return models\n",
    "\n",
    "# Crear pipelines completos\n",
    "def create_pipeline(model):\n",
    "    \"\"\"\n",
    "    Crea pipeline completo con preprocessor y modelo\n",
    "    \"\"\"\n",
    "    pipeline = Pipeline([\n",
    "        ('preprocessor', create_preprocessor()),\n",
    "        ('classifier', model)\n",
    "    ])\n",
    "    return pipeline\n",
    "\n",
    "base_models = get_base_models()\n",
    "print(\"🤖 Modelos base configurados:\")\n",
    "for name in base_models.keys():\n",
    "    print(f\"   • {name.replace('_', ' ').title()}\")"
   ]
  },
  {
   "cell_type": "markdown",
   "id": "c9af65b0",
   "metadata": {},
   "source": [
    "## 5. Optimización de Hiperparámetros con Optuna"
   ]
  },
  {
   "cell_type": "code",
   "execution_count": 6,
   "id": "84b86e0d",
   "metadata": {},
   "outputs": [
    {
     "name": "stdout",
     "output_type": "stream",
     "text": [
      "🎯 Distribuciones de hiperparámetros configuradas\n",
      "   Cada modelo tendrá 3 hiperparámetros optimizados\n"
     ]
    }
   ],
   "source": [
    "# Configurar estudios de Optuna\n",
    "def get_param_distributions():\n",
    "    \"\"\"\n",
    "    Define distribuciones de hiperparámetros para cada modelo\n",
    "    \"\"\"\n",
    "    param_dists = {\n",
    "        'logistic_regression': {\n",
    "            'classifier__C': (0.1, 10.0),\n",
    "            'classifier__solver': ['liblinear', 'lbfgs'],\n",
    "            'classifier__class_weight': ['balanced', None]\n",
    "        },\n",
    "        'random_forest': {\n",
    "            'classifier__n_estimators': (50, 200),\n",
    "            'classifier__max_depth': (5, 20),\n",
    "            'classifier__min_samples_split': (2, 10)\n",
    "        },\n",
    "        'lightgbm': {\n",
    "            'classifier__n_estimators': (50, 200),\n",
    "            'classifier__max_depth': (3, 15),\n",
    "            'classifier__learning_rate': (0.01, 0.2)\n",
    "        }\n",
    "    }\n",
    "    return param_dists\n",
    "\n",
    "param_distributions = get_param_distributions()\n",
    "print(\"🎯 Distribuciones de hiperparámetros configuradas\")\n",
    "print(\"   Cada modelo tendrá 3 hiperparámetros optimizados\")"
   ]
  },
  {
   "cell_type": "code",
   "execution_count": 7,
   "id": "5aad86d5",
   "metadata": {},
   "outputs": [
    {
     "name": "stdout",
     "output_type": "stream",
     "text": [
      "🎯 Función objetivo configurada (métrica: F1-score)\n"
     ]
    }
   ],
   "source": [
    "# Función objetivo para Optuna\n",
    "def create_objective(model_name, model, X_train, y_train, X_val, y_val):\n",
    "    \"\"\"\n",
    "    Crea función objetivo para optimización con Optuna\n",
    "    \"\"\"\n",
    "    def objective(trial):\n",
    "        # Sugerir hiperparámetros\n",
    "        params = {}\n",
    "        param_dist = param_distributions[model_name]\n",
    "        \n",
    "        for param_name, param_range in param_dist.items():\n",
    "            if isinstance(param_range, tuple):\n",
    "                if isinstance(param_range[0], float):\n",
    "                    params[param_name] = trial.suggest_float(param_name, param_range[0], param_range[1])\n",
    "                else:\n",
    "                    params[param_name] = trial.suggest_int(param_name, param_range[0], param_range[1])\n",
    "            elif isinstance(param_range, list):\n",
    "                params[param_name] = trial.suggest_categorical(param_name, param_range)\n",
    "        \n",
    "        # Crear pipeline con hiperparámetros sugeridos\n",
    "        pipeline = create_pipeline(model)\n",
    "        pipeline.set_params(**params)\n",
    "        \n",
    "        # Entrenar y evaluar\n",
    "        pipeline.fit(X_train, y_train)\n",
    "        y_pred = pipeline.predict(X_val)\n",
    "        \n",
    "        # Retornar F1-score (métrica objetivo)\n",
    "        return f1_score(y_val, y_pred)\n",
    "    \n",
    "    return objective\n",
    "\n",
    "print(\"🎯 Función objetivo configurada (métrica: F1-score)\")"
   ]
  },
  {
   "cell_type": "markdown",
   "id": "29886121",
   "metadata": {},
   "source": [
    "## 6. Entrenamiento y Optimización de Modelos"
   ]
  },
  {
   "cell_type": "code",
   "execution_count": 8,
   "id": "d9d0aa54",
   "metadata": {},
   "outputs": [
    {
     "name": "stdout",
     "output_type": "stream",
     "text": [
      "🚀 INICIO DEL ENTRENAMIENTO Y OPTIMIZACIÓN\n",
      "==================================================\n",
      "\n",
      "🔄 Optimizando Logistic Regression...\n"
     ]
    },
    {
     "name": "stderr",
     "output_type": "stream",
     "text": [
      "Best trial: 5. Best value: 0.236439: 100%|██████████| 20/20 [00:53<00:00,  2.67s/it]\n"
     ]
    },
    {
     "name": "stdout",
     "output_type": "stream",
     "text": [
      "   ✅ Completado en 53.5s\n",
      "   🎯 Mejor F1-score: 0.2364\n",
      "   📋 Mejores parámetros: {'classifier__C': 7.873242017790835, 'classifier__solver': 'lbfgs', 'classifier__class_weight': 'balanced'}\n",
      "\n",
      "🔄 Optimizando Random Forest...\n"
     ]
    },
    {
     "name": "stderr",
     "output_type": "stream",
     "text": [
      "Best trial: 13. Best value: 0.88172: 100%|██████████| 20/20 [19:52<00:00, 59.65s/it]\n"
     ]
    },
    {
     "name": "stdout",
     "output_type": "stream",
     "text": [
      "   ✅ Completado en 1193.0s\n",
      "   🎯 Mejor F1-score: 0.8817\n",
      "   📋 Mejores parámetros: {'classifier__n_estimators': 196, 'classifier__max_depth': 20, 'classifier__min_samples_split': 9}\n",
      "\n",
      "🔄 Optimizando Lightgbm...\n"
     ]
    },
    {
     "name": "stderr",
     "output_type": "stream",
     "text": [
      "Best trial: 15. Best value: 0.885246: 100%|██████████| 20/20 [00:46<00:00,  2.34s/it]\n",
      "\n"
     ]
    },
    {
     "name": "stdout",
     "output_type": "stream",
     "text": [
      "   ✅ Completado en 46.7s\n",
      "   🎯 Mejor F1-score: 0.8852\n",
      "   📋 Mejores parámetros: {'classifier__n_estimators': 191, 'classifier__max_depth': 8, 'classifier__learning_rate': 0.15027020247523973}\n",
      "\n",
      "🎉 OPTIMIZACIÓN COMPLETADA\n",
      "   Total de modelos: 3\n",
      "   Tiempo total: 1293.1s\n"
     ]
    }
   ],
   "source": [
    "# Entrenar y optimizar cada modelo\n",
    "print(\"🚀 INICIO DEL ENTRENAMIENTO Y OPTIMIZACIÓN\")\n",
    "print(\"=\" * 50)\n",
    "\n",
    "# Almacenar resultados\n",
    "optimization_results = {}\n",
    "best_models = {}\n",
    "training_times = {}\n",
    "\n",
    "# Configuración de Optuna\n",
    "N_TRIALS = 20  # Número limitado para eficiencia\n",
    "optuna.logging.set_verbosity(optuna.logging.WARNING)  # Reducir output\n",
    "\n",
    "for model_name, base_model in base_models.items():\n",
    "    print(f\"\\n🔄 Optimizando {model_name.replace('_', ' ').title()}...\")\n",
    "    \n",
    "    start_time = time.time()\n",
    "    \n",
    "    # Crear estudio de Optuna\n",
    "    study = optuna.create_study(\n",
    "        direction='maximize',\n",
    "        sampler=TPESampler(seed=RANDOM_STATE)\n",
    "    )\n",
    "    \n",
    "    # Crear función objetivo\n",
    "    objective = create_objective(\n",
    "        model_name, base_model, \n",
    "        X_train_balanced, y_train_balanced,\n",
    "        X_val, y_val\n",
    "    )\n",
    "    \n",
    "    # Optimizar\n",
    "    study.optimize(objective, n_trials=N_TRIALS, show_progress_bar=True)\n",
    "    \n",
    "    end_time = time.time()\n",
    "    training_time = end_time - start_time\n",
    "    \n",
    "    # Guardar resultados\n",
    "    optimization_results[model_name] = {\n",
    "        'best_params': study.best_params,\n",
    "        'best_score': study.best_value,\n",
    "        'n_trials': len(study.trials)\n",
    "    }\n",
    "    training_times[model_name] = training_time\n",
    "    \n",
    "    # Crear y entrenar mejor modelo\n",
    "    best_pipeline = create_pipeline( )\n",
    "    best_pipeline.set_params(**study.best_params)\n",
    "    best_pipeline.fit(X_train_balanced, y_train_balanced)\n",
    "    best_models[model_name] = best_pipeline\n",
    "    \n",
    "    print(f\"   ✅ Completado en {training_time:.1f}s\")\n",
    "    print(f\"   🎯 Mejor F1-score: {study.best_value:.4f}\")\n",
    "    print(f\"   📋 Mejores parámetros: {study.best_params}\")\n",
    "\n",
    "print(f\"\\n🎉 OPTIMIZACIÓN COMPLETADA\")\n",
    "print(f\"   Total de modelos: {len(best_models)}\")\n",
    "print(f\"   Tiempo total: {sum(training_times.values()):.1f}s\")"
   ]
  },
  {
   "cell_type": "markdown",
   "id": "f862987a",
   "metadata": {},
   "source": [
    "## 7. Evaluación de Modelos"
   ]
  },
  {
   "cell_type": "code",
   "execution_count": 9,
   "id": "34b28460",
   "metadata": {},
   "outputs": [
    {
     "name": "stdout",
     "output_type": "stream",
     "text": [
      "📊 EVALUACIÓN DE MODELOS\n",
      "==============================\n",
      "\n",
      "🔍 Evaluando Logistic Regression...\n",
      "   📈 Accuracy: 0.9896\n",
      "   📈 Precision: 0.1233\n",
      "   📈 Recall: 0.8526\n",
      "   📈 F1-Score: 0.2154\n",
      "   📈 ROC-AUC: 0.9608\n",
      "\n",
      "🔍 Evaluando Random Forest...\n",
      "   📈 Accuracy: 0.9995\n",
      "   📈 Precision: 0.9024\n",
      "   📈 Recall: 0.7789\n",
      "   📈 F1-Score: 0.8362\n",
      "   📈 ROC-AUC: 0.9562\n",
      "\n",
      "🔍 Evaluando Lightgbm...\n",
      "   📈 Accuracy: 0.9995\n",
      "   📈 Precision: 0.9024\n",
      "   📈 Recall: 0.7789\n",
      "   📈 F1-Score: 0.8362\n",
      "   📈 ROC-AUC: 0.9562\n",
      "\n",
      "🔍 Evaluando Lightgbm...\n",
      "   📈 Accuracy: 0.9995\n",
      "   📈 Precision: 0.9036\n",
      "   📈 Recall: 0.7895\n",
      "   📈 F1-Score: 0.8427\n",
      "   📈 ROC-AUC: 0.9469\n",
      "\n",
      "✅ Evaluación completada\n",
      "   📈 Accuracy: 0.9995\n",
      "   📈 Precision: 0.9036\n",
      "   📈 Recall: 0.7895\n",
      "   📈 F1-Score: 0.8427\n",
      "   📈 ROC-AUC: 0.9469\n",
      "\n",
      "✅ Evaluación completada\n"
     ]
    }
   ],
   "source": [
    "# Evaluar todos los modelos\n",
    "def evaluate_model(model, X_test, y_test, model_name):\n",
    "    \"\"\"\n",
    "    Evalúa un modelo y retorna métricas\n",
    "    \"\"\"\n",
    "    # Predicciones\n",
    "    y_pred = model.predict(X_test)\n",
    "    y_pred_proba = model.predict_proba(X_test)[:, 1]\n",
    "    \n",
    "    # Calcular métricas\n",
    "    metrics = {\n",
    "        'accuracy': accuracy_score(y_test, y_pred),\n",
    "        'precision': precision_score(y_test, y_pred),\n",
    "        'recall': recall_score(y_test, y_pred),\n",
    "        'f1': f1_score(y_test, y_pred),\n",
    "        'roc_auc': roc_auc_score(y_test, y_pred_proba)\n",
    "    }\n",
    "    \n",
    "    return metrics, y_pred, y_pred_proba\n",
    "\n",
    "# Evaluar todos los modelos\n",
    "print(\"📊 EVALUACIÓN DE MODELOS\")\n",
    "print(\"=\" * 30)\n",
    "\n",
    "evaluation_results = {}\n",
    "predictions = {}\n",
    "\n",
    "for model_name, model in best_models.items():\n",
    "    print(f\"\\n🔍 Evaluando {model_name.replace('_', ' ').title()}...\")\n",
    "    \n",
    "    metrics, y_pred, y_pred_proba = evaluate_model(\n",
    "        model, X_test, y_test, model_name\n",
    "    )\n",
    "    \n",
    "    evaluation_results[model_name] = metrics\n",
    "    predictions[model_name] = {\n",
    "        'y_pred': y_pred,\n",
    "        'y_pred_proba': y_pred_proba\n",
    "    }\n",
    "    \n",
    "    print(f\"   📈 Accuracy: {metrics['accuracy']:.4f}\")\n",
    "    print(f\"   📈 Precision: {metrics['precision']:.4f}\")\n",
    "    print(f\"   📈 Recall: {metrics['recall']:.4f}\")\n",
    "    print(f\"   📈 F1-Score: {metrics['f1']:.4f}\")\n",
    "    print(f\"   📈 ROC-AUC: {metrics['roc_auc']:.4f}\")\n",
    "\n",
    "print(\"\\n✅ Evaluación completada\")"
   ]
  },
  {
   "cell_type": "code",
   "execution_count": 10,
   "id": "8b907509",
   "metadata": {},
   "outputs": [
    {
     "name": "stdout",
     "output_type": "stream",
     "text": [
      "📋 TABLA COMPARATIVA DE RESULTADOS\n",
      "========================================\n"
     ]
    },
    {
     "data": {
      "text/html": [
       "<div>\n",
       "<style scoped>\n",
       "    .dataframe tbody tr th:only-of-type {\n",
       "        vertical-align: middle;\n",
       "    }\n",
       "\n",
       "    .dataframe tbody tr th {\n",
       "        vertical-align: top;\n",
       "    }\n",
       "\n",
       "    .dataframe thead th {\n",
       "        text-align: right;\n",
       "    }\n",
       "</style>\n",
       "<table border=\"1\" class=\"dataframe\">\n",
       "  <thead>\n",
       "    <tr style=\"text-align: right;\">\n",
       "      <th></th>\n",
       "      <th>accuracy</th>\n",
       "      <th>precision</th>\n",
       "      <th>recall</th>\n",
       "      <th>f1</th>\n",
       "      <th>roc_auc</th>\n",
       "    </tr>\n",
       "  </thead>\n",
       "  <tbody>\n",
       "    <tr>\n",
       "      <th>Logistic Regression</th>\n",
       "      <td>0.9896</td>\n",
       "      <td>0.1233</td>\n",
       "      <td>0.8526</td>\n",
       "      <td>0.2154</td>\n",
       "      <td>0.9608</td>\n",
       "    </tr>\n",
       "    <tr>\n",
       "      <th>Random Forest</th>\n",
       "      <td>0.9995</td>\n",
       "      <td>0.9024</td>\n",
       "      <td>0.7789</td>\n",
       "      <td>0.8362</td>\n",
       "      <td>0.9562</td>\n",
       "    </tr>\n",
       "    <tr>\n",
       "      <th>Lightgbm</th>\n",
       "      <td>0.9995</td>\n",
       "      <td>0.9036</td>\n",
       "      <td>0.7895</td>\n",
       "      <td>0.8427</td>\n",
       "      <td>0.9469</td>\n",
       "    </tr>\n",
       "  </tbody>\n",
       "</table>\n",
       "</div>"
      ],
      "text/plain": [
       "                     accuracy  precision  recall      f1  roc_auc\n",
       "Logistic Regression    0.9896     0.1233  0.8526  0.2154   0.9608\n",
       "Random Forest          0.9995     0.9024  0.7789  0.8362   0.9562\n",
       "Lightgbm               0.9995     0.9036  0.7895  0.8427   0.9469"
      ]
     },
     "metadata": {},
     "output_type": "display_data"
    },
    {
     "name": "stdout",
     "output_type": "stream",
     "text": [
      "\n",
      "🏆 MEJORES MODELOS POR MÉTRICA:\n",
      "   ACCURACY: Random Forest (0.9995)\n",
      "   PRECISION: Lightgbm (0.9036)\n",
      "   RECALL: Logistic Regression (0.8526)\n",
      "   F1: Lightgbm (0.8427)\n",
      "   ROC_AUC: Logistic Regression (0.9608)\n"
     ]
    }
   ],
   "source": [
    "# Crear tabla comparativa de resultados\n",
    "results_df = pd.DataFrame(evaluation_results).T\n",
    "results_df = results_df.round(4)\n",
    "results_df.index = [name.replace('_', ' ').title() for name in results_df.index]\n",
    "\n",
    "print(\"📋 TABLA COMPARATIVA DE RESULTADOS\")\n",
    "print(\"=\" * 40)\n",
    "display(results_df)\n",
    "\n",
    "# Identificar mejor modelo por métrica\n",
    "print(\"\\n🏆 MEJORES MODELOS POR MÉTRICA:\")\n",
    "for metric in results_df.columns:\n",
    "    best_model = results_df[metric].idxmax()\n",
    "    best_score = results_df[metric].max()\n",
    "    print(f\"   {metric.upper()}: {best_model} ({best_score:.4f})\")"
   ]
  },
  {
   "cell_type": "markdown",
   "id": "f53cd45b",
   "metadata": {},
   "source": [
    "## 8. Visualización de Resultados"
   ]
  },
  {
   "cell_type": "code",
   "execution_count": 11,
   "id": "6d65014c",
   "metadata": {},
   "outputs": [
    {
     "data": {
      "image/png": "[encoded data removed]",
      "text/plain": [
       "<Figure size 1800x1200 with 6 Axes>"
      ]
     },
     "metadata": {},
     "output_type": "display_data"
    }
   ],
   "source": [
    "# Visualizar comparación de métricas\n",
    "fig, axes = plt.subplots(2, 3, figsize=(18, 12))\n",
    "axes = axes.ravel()\n",
    "\n",
    "metrics_to_plot = ['accuracy', 'precision', 'recall', 'f1', 'roc_auc']\n",
    "colors = ['skyblue', 'lightcoral', 'lightgreen']\n",
    "\n",
    "for i, metric in enumerate(metrics_to_plot):\n",
    "    values = [evaluation_results[model][metric] for model in best_models.keys()]\n",
    "    model_names = [name.replace('_', ' ').title() for name in best_models.keys()]\n",
    "    \n",
    "    bars = axes[i].bar(model_names, values, color=colors, alpha=0.8)\n",
    "    axes[i].set_title(f'{metric.upper()}', fontweight='bold')\n",
    "    axes[i].set_ylabel(metric.upper())\n",
    "    axes[i].set_ylim(0, 1)\n",
    "    axes[i].grid(True, alpha=0.3)\n",
    "    \n",
    "    # Agregar valores en las barras\n",
    "    for bar, value in zip(bars, values):\n",
    "        axes[i].text(bar.get_x() + bar.get_width()/2, bar.get_height() + 0.01,\n",
    "                    f'{value:.3f}', ha='center', va='bottom', fontweight='bold')\n",
    "\n",
    "# Ocultar el último subplot\n",
    "axes[5].axis('off')\n",
    "\n",
    "plt.tight_layout()\n",
    "plt.show()"
   ]
  },
  {
   "cell_type": "code",
   "execution_count": 12,
   "id": "42ac02e8",
   "metadata": {},
   "outputs": [
    {
     "data": {
      "image/png": "[encoded data removed]",
      "text/plain": [
       "<Figure size 1800x500 with 6 Axes>"
      ]
     },
     "metadata": {},
     "output_type": "display_data"
    }
   ],
   "source": [
    "# Matrices de confusión\n",
    "fig, axes = plt.subplots(1, 3, figsize=(18, 5))\n",
    "\n",
    "for i, (model_name, model) in enumerate(best_models.items()):\n",
    "    y_pred = predictions[model_name]['y_pred']\n",
    "    cm = confusion_matrix(y_test, y_pred)\n",
    "    \n",
    "    sns.heatmap(cm, annot=True, fmt='d', cmap='Blues', ax=axes[i],\n",
    "                xticklabels=['No Fraude', 'Fraude'],\n",
    "                yticklabels=['No Fraude', 'Fraude'])\n",
    "    \n",
    "    axes[i].set_title(f'Matriz de Confusión\\n{model_name.replace(\"_\", \" \").title()}',\n",
    "                     fontweight='bold')\n",
    "    axes[i].set_xlabel('Predicción')\n",
    "    axes[i].set_ylabel('Realidad')\n",
    "\n",
    "plt.tight_layout()\n",
    "plt.show()"
   ]
  },
  {
   "cell_type": "markdown",
   "id": "cbb78c0f",
   "metadata": {},
   "source": [
    "## 9. Guardado de Modelos y Resultados"
   ]
  },
  {
   "cell_type": "code",
   "execution_count": 13,
   "id": "5157b5a0",
   "metadata": {},
   "outputs": [
    {
     "name": "stdout",
     "output_type": "stream",
     "text": [
      "💾 GUARDANDO MODELOS Y RESULTADOS\n",
      "========================================\n",
      "✅ Modelo guardado: logistic_regression_best_model.joblib\n",
      "✅ Modelo guardado: random_forest_best_model.joblib\n",
      "✅ Modelo guardado: lightgbm_best_model.joblib\n",
      "✅ Resultados de optimización guardados\n",
      "✅ Métricas de evaluación guardadas\n",
      "✅ Tabla comparativa guardada\n",
      "\n",
      "📁 Archivos guardados:\n",
      "   📂 ../models/: 3 modelos\n",
      "   📂 ../results/: 3 archivos de resultados\n"
     ]
    }
   ],
   "source": [
    "# Crear directorios si no existen\n",
    "models_dir = '../models/'\n",
    "results_dir = '../results/'\n",
    "os.makedirs(models_dir, exist_ok=True)\n",
    "os.makedirs(results_dir, exist_ok=True)\n",
    "\n",
    "print(\"💾 GUARDANDO MODELOS Y RESULTADOS\")\n",
    "print(\"=\" * 40)\n",
    "\n",
    "# Guardar modelos\n",
    "for model_name, model in best_models.items():\n",
    "    model_path = os.path.join(models_dir, f'{model_name}_best_model.joblib')\n",
    "    joblib.dump(model, model_path)\n",
    "    print(f\"✅ Modelo guardado: {model_name}_best_model.joblib\")\n",
    "\n",
    "# Guardar resultados de optimización\n",
    "optim_results_path = os.path.join(results_dir, 'optimization_results.json')\n",
    "with open(optim_results_path, 'w') as f:\n",
    "    json.dump(optimization_results, f, indent=2)\n",
    "print(f\"✅ Resultados de optimización guardados\")\n",
    "\n",
    "# Guardar métricas de evaluación\n",
    "eval_results_path = os.path.join(results_dir, 'evaluation_results.json')\n",
    "with open(eval_results_path, 'w') as f:\n",
    "    json.dump(evaluation_results, f, indent=2)\n",
    "print(f\"✅ Métricas de evaluación guardadas\")\n",
    "\n",
    "# Guardar tabla comparativa\n",
    "results_csv_path = os.path.join(results_dir, 'model_comparison.csv')\n",
    "results_df.to_csv(results_csv_path)\n",
    "print(f\"✅ Tabla comparativa guardada\")\n",
    "\n",
    "# Resumen de archivos guardados\n",
    "print(f\"\\n📁 Archivos guardados:\")\n",
    "print(f\"   📂 {models_dir}: {len(best_models)} modelos\")\n",
    "print(f\"   📂 {results_dir}: 3 archivos de resultados\")"
   ]
  },
  {
   "cell_type": "markdown",
   "id": "aa022893",
   "metadata": {},
   "source": [
    "## 10. Resumen Final"
   ]
  },
  {
   "cell_type": "code",
   "execution_count": 14,
   "id": "6148c3c3",
   "metadata": {},
   "outputs": [
    {
     "name": "stdout",
     "output_type": "stream",
     "text": [
      "📋 RESUMEN DEL ENTRENAMIENTO DE MODELOS\n",
      "=============================================\n",
      "🤖 MODELOS ENTRENADOS:\n",
      "   • Logistic Regression:\n",
      "     - Tiempo de entrenamiento: 53.5s\n",
      "     - F1-Score final: 0.2154\n",
      "   • Random Forest:\n",
      "     - Tiempo de entrenamiento: 1193.0s\n",
      "     - F1-Score final: 0.8362\n",
      "   • Lightgbm:\n",
      "     - Tiempo de entrenamiento: 46.7s\n",
      "     - F1-Score final: 0.8427\n",
      "\n",
      "🎯 CONFIGURACIÓN:\n",
      "   • Pipeline: ColumnTransformer + Modelo\n",
      "   • Escaladores: StandardScaler (PCA) + RobustScaler (Num)\n",
      "   • Optimización: Optuna con 20 trials\n",
      "   • Métrica objetivo: F1-Score\n",
      "   • Paralelización: n_jobs=-1\n",
      "\n",
      "📊 MEJOR RENDIMIENTO:\n",
      "   • Mejor F1-Score: Lightgbm (0.8427)\n",
      "   • Mejor ROC-AUC: Logistic Regression (0.9608)\n",
      "\n",
      "💾 ARTEFACTOS GENERADOS:\n",
      "   • 3 modelos entrenados (.joblib)\n",
      "   • Resultados de optimización (.json)\n",
      "   • Métricas de evaluación (.json)\n",
      "   • Tabla comparativa (.csv)\n",
      "\n",
      "🎯 PRÓXIMOS PASOS:\n",
      "   • Análisis detallado de métricas\n",
      "   • Interpretabilidad con SHAP\n",
      "   • Análisis de errores\n",
      "   • Optimización adicional si es necesario\n",
      "\n",
      "=============================================\n",
      "🎉 ENTRENAMIENTO COMPLETADO EXITOSAMENTE\n",
      "=============================================\n"
     ]
    }
   ],
   "source": [
    "# Resumen completo del entrenamiento\n",
    "print(\"📋 RESUMEN DEL ENTRENAMIENTO DE MODELOS\")\n",
    "print(\"=\" * 45)\n",
    "\n",
    "print(\"🤖 MODELOS ENTRENADOS:\")\n",
    "for model_name in best_models.keys():\n",
    "    training_time = training_times[model_name]\n",
    "    best_f1 = evaluation_results[model_name]['f1']\n",
    "    print(f\"   • {model_name.replace('_', ' ').title()}:\")\n",
    "    print(f\"     - Tiempo de entrenamiento: {training_time:.1f}s\")\n",
    "    print(f\"     - F1-Score final: {best_f1:.4f}\")\n",
    "\n",
    "print(f\"\\n🎯 CONFIGURACIÓN:\")\n",
    "print(f\"   • Pipeline: ColumnTransformer + Modelo\")\n",
    "print(f\"   • Escaladores: StandardScaler (PCA) + RobustScaler (Num)\")\n",
    "print(f\"   • Optimización: Optuna con {N_TRIALS} trials\")\n",
    "print(f\"   • Métrica objetivo: F1-Score\")\n",
    "print(f\"   • Paralelización: n_jobs=-1\")\n",
    "\n",
    "print(f\"\\n📊 MEJOR RENDIMIENTO:\")\n",
    "best_f1_model = max(evaluation_results.items(), key=lambda x: x[1]['f1'])\n",
    "best_auc_model = max(evaluation_results.items(), key=lambda x: x[1]['roc_auc'])\n",
    "print(f\"   • Mejor F1-Score: {best_f1_model[0].replace('_', ' ').title()} ({best_f1_model[1]['f1']:.4f})\")\n",
    "print(f\"   • Mejor ROC-AUC: {best_auc_model[0].replace('_', ' ').title()} ({best_auc_model[1]['roc_auc']:.4f})\")\n",
    "\n",
    "print(f\"\\n💾 ARTEFACTOS GENERADOS:\")\n",
    "print(f\"   • {len(best_models)} modelos entrenados (.joblib)\")\n",
    "print(f\"   • Resultados de optimización (.json)\")\n",
    "print(f\"   • Métricas de evaluación (.json)\")\n",
    "print(f\"   • Tabla comparativa (.csv)\")\n",
    "\n",
    "print(f\"\\n🎯 PRÓXIMOS PASOS:\")\n",
    "print(f\"   • Análisis detallado de métricas\")\n",
    "print(f\"   • Interpretabilidad con SHAP\")\n",
    "print(f\"   • Análisis de errores\")\n",
    "print(f\"   • Optimización adicional si es necesario\")\n",
    "\n",
    "print(\"\\n\" + \"=\" * 45)\n",
    "print(\"🎉 ENTRENAMIENTO COMPLETADO EXITOSAMENTE\")\n",
    "print(\"=\" * 45)"
   ]
  }
 ],
 "metadata": {
  "kernelspec": {
   "display_name": "Python 3",
   "language": "python",
   "name": "python3"
  },
  "language_info": {
   "codemirror_mode": {
    "name": "ipython",
    "version": 3
   },
   "file_extension": ".py",
   "mimetype": "text/x-python",
   "name": "python",
   "nbconvert_exporter": "python",
   "pygments_lexer": "ipython3",
   "version": "3.12.3"
  }
 },
 "nbformat": 4,
 "nbformat_minor": 5
}
